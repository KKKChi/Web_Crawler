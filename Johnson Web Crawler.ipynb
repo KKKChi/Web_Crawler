{
 "cells": [
  {
   "cell_type": "code",
   "execution_count": 1,
   "metadata": {},
   "outputs": [],
   "source": [
    "from urllib.request import urlopen\n",
    "from bs4 import BeautifulSoup\n",
    "import re"
   ]
  },
  {
   "cell_type": "code",
   "execution_count": 2,
   "metadata": {},
   "outputs": [],
   "source": [
    "web_address='http://search.johnson.manatron.com/details.php?DB_account=R000000148&account=126.0001.00177'\n",
    "html = urlopen(web_address)\n",
    "bs = BeautifulSoup(html.read(), 'html.parser')"
   ]
  },
  {
   "cell_type": "code",
   "execution_count": 3,
   "metadata": {},
   "outputs": [],
   "source": [
    "highlightInformation = bs.find_all('tr',{'class':'light'})\n",
    "highlightInformation\n",
    "Infolist = list()\n",
    "for i in highlightInformation:\n",
    "    Infolist.append(i.td.get_text())"
   ]
  },
  {
   "cell_type": "code",
   "execution_count": 4,
   "metadata": {},
   "outputs": [
    {
     "data": {
      "text/plain": [
       "['Mork Scott Louis & Linda D',\n",
       " '8708 Cr 523, Burleson, TX 76028',\n",
       " ' Cr 523',\n",
       " '1.000000',\n",
       " 'ABST 1TR 3A9V ANDERSON',\n",
       " '1998-03-02',\n",
       " 'Unassigned',\n",
       " '00970',\n",
       " '02152',\n",
       " '',\n",
       " '',\n",
       " 'E4 - Non-Prod Undeveloped',\n",
       " '',\n",
       " '126.0001.00177',\n",
       " 'Apr 29 2020 10:48AM',\n",
       " '$0',\n",
       " '$61,250',\n",
       " '$0',\n",
       " '$0',\n",
       " '$0',\n",
       " '$61,250',\n",
       " '$61,250',\n",
       " '1.7500',\n",
       " '0',\n",
       " '0']"
      ]
     },
     "execution_count": 4,
     "metadata": {},
     "output_type": "execute_result"
    }
   ],
   "source": [
    "Infolist"
   ]
  },
  {
   "cell_type": "code",
   "execution_count": 5,
   "metadata": {},
   "outputs": [
    {
     "data": {
      "text/plain": [
       "'126.0001.00177'"
      ]
     },
     "execution_count": 5,
     "metadata": {},
     "output_type": "execute_result"
    }
   ],
   "source": [
    "#APN\n",
    "APN = Infolist[13]\n",
    "APN"
   ]
  },
  {
   "cell_type": "code",
   "execution_count": 6,
   "metadata": {},
   "outputs": [
    {
     "data": {
      "text/plain": [
       "'Mork Scott Louis & Linda D'"
      ]
     },
     "execution_count": 6,
     "metadata": {},
     "output_type": "execute_result"
    }
   ],
   "source": [
    "#Owner\n",
    "Owner = Infolist[0]\n",
    "Owner"
   ]
  },
  {
   "cell_type": "code",
   "execution_count": 7,
   "metadata": {},
   "outputs": [
    {
     "data": {
      "text/plain": [
       "'8708 Cr 523'"
      ]
     },
     "execution_count": 7,
     "metadata": {},
     "output_type": "execute_result"
    }
   ],
   "source": [
    "#Owner Address Line1\n",
    "OAL1_1 = re.findall(r'(.*),.*,',Infolist[1])\n",
    "OAL1 = ''.join(OAL1_1)\n",
    "OAL1"
   ]
  },
  {
   "cell_type": "code",
   "execution_count": 8,
   "metadata": {},
   "outputs": [
    {
     "data": {
      "text/plain": [
       "'Burleson, TX 76028'"
      ]
     },
     "execution_count": 8,
     "metadata": {},
     "output_type": "execute_result"
    }
   ],
   "source": [
    "#Owner Address Line2\n",
    "OAL2_1 = re.findall(r', (.*, \\D{2})',Infolist[1])\n",
    "Zip_f = re.findall(r'\\d{5,9}$',Infolist[1])\n",
    "Zip_str = ''.join(Zip_f)\n",
    "if len(Zip_str) == 5:\n",
    "    Zip = Zip_str\n",
    "if len(Zip_str) == 9:\n",
    "    Zip = Zip_str[:5]+'-'+Zip_str[-4:]\n",
    "OAL2 = ''.join(OAL2_1) + ' ' + Zip\n",
    "OAL2"
   ]
  },
  {
   "cell_type": "code",
   "execution_count": 9,
   "metadata": {},
   "outputs": [
    {
     "data": {
      "text/plain": [
       "' Cr 523'"
      ]
     },
     "execution_count": 9,
     "metadata": {},
     "output_type": "execute_result"
    }
   ],
   "source": [
    "#Property Address Line1\n",
    "PAL1 = Infolist[2]\n",
    "PAL1"
   ]
  },
  {
   "cell_type": "code",
   "execution_count": 10,
   "metadata": {},
   "outputs": [
    {
     "data": {
      "text/plain": [
       "''"
      ]
     },
     "execution_count": 10,
     "metadata": {},
     "output_type": "execute_result"
    }
   ],
   "source": [
    "#Property Address Line2\n",
    "PAL2 = ''\n",
    "PAL2"
   ]
  },
  {
   "cell_type": "code",
   "execution_count": 11,
   "metadata": {},
   "outputs": [
    {
     "data": {
      "text/plain": [
       "'ABST 1TR 3A9V ANDERSON'"
      ]
     },
     "execution_count": 11,
     "metadata": {},
     "output_type": "execute_result"
    }
   ],
   "source": [
    "#Legal_Description\n",
    "Leg_Des = Infolist[4]\n",
    "Leg_Des"
   ]
  },
  {
   "cell_type": "code",
   "execution_count": 12,
   "metadata": {},
   "outputs": [
    {
     "data": {
      "text/plain": [
       "'E4 - Non-Prod Undeveloped'"
      ]
     },
     "execution_count": 12,
     "metadata": {},
     "output_type": "execute_result"
    }
   ],
   "source": [
    "#Zoning\n",
    "Zoning = Infolist[11]\n",
    "Zoning"
   ]
  },
  {
   "cell_type": "code",
   "execution_count": 13,
   "metadata": {},
   "outputs": [
    {
     "data": {
      "text/plain": [
       "'1.7500'"
      ]
     },
     "execution_count": 13,
     "metadata": {},
     "output_type": "execute_result"
    }
   ],
   "source": [
    "#Acreage\n",
    "Acreage = Infolist[22]\n",
    "Acreage"
   ]
  },
  {
   "cell_type": "code",
   "execution_count": 14,
   "metadata": {},
   "outputs": [
    {
     "data": {
      "text/plain": [
       "'1998-03-02'"
      ]
     },
     "execution_count": 14,
     "metadata": {},
     "output_type": "execute_result"
    }
   ],
   "source": [
    "#Deed_Date\n",
    "Deed_Date = Infolist[5]\n",
    "Deed_Date"
   ]
  },
  {
   "cell_type": "code",
   "execution_count": 15,
   "metadata": {},
   "outputs": [
    {
     "data": {
      "text/plain": [
       "'$61,250'"
      ]
     },
     "execution_count": 15,
     "metadata": {},
     "output_type": "execute_result"
    }
   ],
   "source": [
    "#Land_Assessed_Value\n",
    "LAV = Infolist[16]\n",
    "LAV"
   ]
  },
  {
   "cell_type": "code",
   "execution_count": 16,
   "metadata": {},
   "outputs": [
    {
     "data": {
      "text/plain": [
       "'$0'"
      ]
     },
     "execution_count": 16,
     "metadata": {},
     "output_type": "execute_result"
    }
   ],
   "source": [
    "#Building_Assessed_Value\n",
    "BAV = Infolist[15]\n",
    "BAV"
   ]
  },
  {
   "cell_type": "code",
   "execution_count": 17,
   "metadata": {},
   "outputs": [
    {
     "data": {
      "text/plain": [
       "'$61,250'"
      ]
     },
     "execution_count": 17,
     "metadata": {},
     "output_type": "execute_result"
    }
   ],
   "source": [
    "#Total_Assessed_Value\n",
    "TAV = Infolist[20]\n",
    "TAV"
   ]
  },
  {
   "cell_type": "code",
   "execution_count": 18,
   "metadata": {},
   "outputs": [
    {
     "data": {
      "text/plain": [
       "'Unassigned'"
      ]
     },
     "execution_count": 18,
     "metadata": {},
     "output_type": "execute_result"
    }
   ],
   "source": [
    "#Deed Type\n",
    "Deed_Type = Infolist[6]\n",
    "Deed_Type"
   ]
  },
  {
   "cell_type": "code",
   "execution_count": 19,
   "metadata": {},
   "outputs": [
    {
     "data": {
      "text/plain": [
       "'0'"
      ]
     },
     "execution_count": 19,
     "metadata": {},
     "output_type": "execute_result"
    }
   ],
   "source": [
    "#Improvement Built Year\n",
    "IBY = Infolist[24]\n",
    "IBY"
   ]
  },
  {
   "cell_type": "code",
   "execution_count": 20,
   "metadata": {},
   "outputs": [
    {
     "data": {
      "text/plain": [
       "'001.00177'"
      ]
     },
     "execution_count": 20,
     "metadata": {},
     "output_type": "execute_result"
    }
   ],
   "source": [
    "#Account Number\n",
    "Account_Number = web_address[-9:]\n",
    "Account_Number"
   ]
  },
  {
   "cell_type": "code",
   "execution_count": 21,
   "metadata": {},
   "outputs": [],
   "source": [
    "#ALL TOGETHER\n",
    "def getinfo(URL):\n",
    "    html = urlopen(URL)\n",
    "    bs = BeautifulSoup(html.read(), 'html.parser')\n",
    "    \n",
    "    highlightInformation = bs.find_all('tr',{'class':'light'})\n",
    "    Infolist = list()\n",
    "    for i in highlightInformation:\n",
    "        Infolist.append(i.td.get_text())\n",
    "    \n",
    "    APN = Infolist[13]\n",
    "    Owner = Infolist[0]\n",
    "    OAL1_1 = re.findall(r'(.*),.*,',Infolist[1])\n",
    "    OAL1 = ''.join(OAL1_1)\n",
    "    \n",
    "    OAL2_1 = re.findall(r', (.*, \\D{2})',Infolist[1])\n",
    "    Zip_f = re.findall(r'\\d{5,9}$',Infolist[1])\n",
    "    Zip_str = ''.join(Zip_f)\n",
    "    if len(Zip_str) == 5:\n",
    "        Zip = Zip_str\n",
    "    if len(Zip_str) == 9:\n",
    "        Zip = Zip_str[:5]+'-'+Zip_str[-4:]\n",
    "    else:\n",
    "        Zip = '00000'\n",
    "    OAL2 = ''.join(OAL2_1) + ' ' + Zip\n",
    "    \n",
    "    PAL1 = Infolist[2]\n",
    "    PAL2 = ''\n",
    "    Leg_Des = Infolist[4]\n",
    "    Zoning = Infolist[11]\n",
    "    Acreage = Infolist[22]\n",
    "    Deed_Date = Infolist[5]\n",
    "    LAV = Infolist[16]\n",
    "    BAV = Infolist[15]\n",
    "    TAV = Infolist[20]\n",
    "    Deed_Type = Infolist[6]\n",
    "    IBY = Infolist[24]\n",
    "    Account_Number = URL[-9:]\n",
    "    \n",
    "    inforow = list()\n",
    "    inforow.append(APN)\n",
    "    inforow.append(Owner)\n",
    "    inforow.append(OAL1)\n",
    "    inforow.append(OAL2)\n",
    "    inforow.append(PAL1)\n",
    "    inforow.append(PAL2)\n",
    "    inforow.append(Leg_Des)\n",
    "    inforow.append(Zoning)\n",
    "    inforow.append(Acreage)\n",
    "    inforow.append(Deed_Date)\n",
    "    inforow.append(LAV)\n",
    "    inforow.append(BAV)\n",
    "    inforow.append(TAV)\n",
    "    inforow.append(Deed_Type)\n",
    "    inforow.append(IBY)\n",
    "    inforow.append(Account_Number)\n",
    "    \n",
    "    return inforow\n",
    "    "
   ]
  },
  {
   "cell_type": "code",
   "execution_count": 25,
   "metadata": {
    "scrolled": true
   },
   "outputs": [
    {
     "data": {
      "text/plain": [
       "['126.0001.00200',\n",
       " 'Todd Harvey Joe &',\n",
       " '9117 Cr 519',\n",
       " 'Alvarado, TX 76009-0000',\n",
       " '9117 Cr 519',\n",
       " '',\n",
       " 'ABST 1TR 3BV ANDERSONS# 12312676A/BL# TEX0297955/6 ELECTED REAL',\n",
       " 'E2 - Real, Farm/Ranch MH + limited Acreage',\n",
       " '2.2410',\n",
       " '2002-02-26',\n",
       " '$78,435',\n",
       " '$28,342',\n",
       " '$106,777',\n",
       " 'Appraisal Office',\n",
       " '1984',\n",
       " '000000150']"
      ]
     },
     "execution_count": 25,
     "metadata": {},
     "output_type": "execute_result"
    }
   ],
   "source": [
    "getinfo('http://search.johnson.manatron.com/details.php?DB_account=R000000150')"
   ]
  },
  {
   "cell_type": "code",
   "execution_count": 3,
   "metadata": {},
   "outputs": [],
   "source": [
    "#webpage generator \n",
    "web_general = 'http://search.johnson.manatron.com/details.php?DB_account=R'\n",
    "Weblist = list()\n",
    "for i in range(0,110000):\n",
    "    web_URL = web_general + str(i).zfill(9)\n",
    "    Weblist.append(web_URL)"
   ]
  },
  {
   "cell_type": "code",
   "execution_count": null,
   "metadata": {},
   "outputs": [],
   "source": [
    "Weblist\n",
    "len(Weblist)"
   ]
  },
  {
   "cell_type": "code",
   "execution_count": 26,
   "metadata": {},
   "outputs": [
    {
     "name": "stdout",
     "output_type": "stream",
     "text": [
      "http://search.johnson.manatron.com/details.php?DB_account=R000109070 Index Error\n",
      "http://search.johnson.manatron.com/details.php?DB_account=R000109071 Index Error\n",
      "http://search.johnson.manatron.com/details.php?DB_account=R000109072 Index Error\n",
      "http://search.johnson.manatron.com/details.php?DB_account=R000109073 Index Error\n",
      "http://search.johnson.manatron.com/details.php?DB_account=R000109074 Index Error\n",
      "http://search.johnson.manatron.com/details.php?DB_account=R000109075 Index Error\n",
      "http://search.johnson.manatron.com/details.php?DB_account=R000109076 Index Error\n",
      "http://search.johnson.manatron.com/details.php?DB_account=R000109077 Index Error\n",
      "http://search.johnson.manatron.com/details.php?DB_account=R000109078 Index Error\n",
      "http://search.johnson.manatron.com/details.php?DB_account=R000109079 Index Error\n",
      "http://search.johnson.manatron.com/details.php?DB_account=R000109080 Index Error\n",
      "http://search.johnson.manatron.com/details.php?DB_account=R000109081 Index Error\n",
      "http://search.johnson.manatron.com/details.php?DB_account=R000109082 Index Error\n",
      "http://search.johnson.manatron.com/details.php?DB_account=R000109083 Index Error\n",
      "http://search.johnson.manatron.com/details.php?DB_account=R000109084 Index Error\n",
      "http://search.johnson.manatron.com/details.php?DB_account=R000109085 Index Error\n",
      "http://search.johnson.manatron.com/details.php?DB_account=R000109086 Index Error\n",
      "http://search.johnson.manatron.com/details.php?DB_account=R000109087 Index Error\n",
      "http://search.johnson.manatron.com/details.php?DB_account=R000109088 Index Error\n",
      "http://search.johnson.manatron.com/details.php?DB_account=R000109089 Index Error\n",
      "http://search.johnson.manatron.com/details.php?DB_account=R000109090 Index Error\n",
      "http://search.johnson.manatron.com/details.php?DB_account=R000109091 Index Error\n",
      "http://search.johnson.manatron.com/details.php?DB_account=R000109092 Index Error\n",
      "http://search.johnson.manatron.com/details.php?DB_account=R000109093 Index Error\n",
      "http://search.johnson.manatron.com/details.php?DB_account=R000109094 Index Error\n",
      "http://search.johnson.manatron.com/details.php?DB_account=R000109095 Index Error\n",
      "http://search.johnson.manatron.com/details.php?DB_account=R000109096 Index Error\n",
      "http://search.johnson.manatron.com/details.php?DB_account=R000109097 Index Error\n",
      "http://search.johnson.manatron.com/details.php?DB_account=R000109098 Index Error\n",
      "http://search.johnson.manatron.com/details.php?DB_account=R000109099 Index Error\n",
      "http://search.johnson.manatron.com/details.php?DB_account=R000109100 Index Error\n",
      "http://search.johnson.manatron.com/details.php?DB_account=R000109101 Index Error\n",
      "http://search.johnson.manatron.com/details.php?DB_account=R000109102 Index Error\n",
      "http://search.johnson.manatron.com/details.php?DB_account=R000109103 Index Error\n",
      "http://search.johnson.manatron.com/details.php?DB_account=R000109104 Index Error\n",
      "http://search.johnson.manatron.com/details.php?DB_account=R000109105 Index Error\n",
      "http://search.johnson.manatron.com/details.php?DB_account=R000109106 Index Error\n",
      "http://search.johnson.manatron.com/details.php?DB_account=R000109107 Index Error\n",
      "http://search.johnson.manatron.com/details.php?DB_account=R000109108 Index Error\n",
      "http://search.johnson.manatron.com/details.php?DB_account=R000109109 Index Error\n",
      "http://search.johnson.manatron.com/details.php?DB_account=R000109110 Index Error\n",
      "http://search.johnson.manatron.com/details.php?DB_account=R000109111 Index Error\n",
      "http://search.johnson.manatron.com/details.php?DB_account=R000109112 Index Error\n",
      "http://search.johnson.manatron.com/details.php?DB_account=R000109113 Index Error\n",
      "http://search.johnson.manatron.com/details.php?DB_account=R000109114 Index Error\n",
      "http://search.johnson.manatron.com/details.php?DB_account=R000109115 Index Error\n",
      "http://search.johnson.manatron.com/details.php?DB_account=R000109116 Index Error\n",
      "http://search.johnson.manatron.com/details.php?DB_account=R000109117 Index Error\n",
      "http://search.johnson.manatron.com/details.php?DB_account=R000109118 Index Error\n",
      "http://search.johnson.manatron.com/details.php?DB_account=R000109119 Index Error\n",
      "http://search.johnson.manatron.com/details.php?DB_account=R000109120 Index Error\n",
      "http://search.johnson.manatron.com/details.php?DB_account=R000109121 Index Error\n",
      "http://search.johnson.manatron.com/details.php?DB_account=R000109122 Index Error\n",
      "http://search.johnson.manatron.com/details.php?DB_account=R000109123 Index Error\n",
      "http://search.johnson.manatron.com/details.php?DB_account=R000109124 Index Error\n",
      "http://search.johnson.manatron.com/details.php?DB_account=R000109125 Index Error\n",
      "http://search.johnson.manatron.com/details.php?DB_account=R000109126 Index Error\n",
      "http://search.johnson.manatron.com/details.php?DB_account=R000109127 Index Error\n",
      "http://search.johnson.manatron.com/details.php?DB_account=R000109128 Index Error\n",
      "http://search.johnson.manatron.com/details.php?DB_account=R000109129 Index Error\n",
      "http://search.johnson.manatron.com/details.php?DB_account=R000109130 Index Error\n",
      "http://search.johnson.manatron.com/details.php?DB_account=R000109131 Index Error\n",
      "http://search.johnson.manatron.com/details.php?DB_account=R000109132 Index Error\n",
      "http://search.johnson.manatron.com/details.php?DB_account=R000109133 Index Error\n",
      "http://search.johnson.manatron.com/details.php?DB_account=R000109134 Index Error\n",
      "http://search.johnson.manatron.com/details.php?DB_account=R000109135 Index Error\n",
      "http://search.johnson.manatron.com/details.php?DB_account=R000109136 Index Error\n",
      "http://search.johnson.manatron.com/details.php?DB_account=R000109137 Index Error\n",
      "http://search.johnson.manatron.com/details.php?DB_account=R000109138 Index Error\n",
      "http://search.johnson.manatron.com/details.php?DB_account=R000109139 Index Error\n",
      "http://search.johnson.manatron.com/details.php?DB_account=R000109140 Index Error\n",
      "http://search.johnson.manatron.com/details.php?DB_account=R000109141 Index Error\n",
      "http://search.johnson.manatron.com/details.php?DB_account=R000109142 Index Error\n",
      "http://search.johnson.manatron.com/details.php?DB_account=R000109143 Index Error\n",
      "http://search.johnson.manatron.com/details.php?DB_account=R000109144 Index Error\n",
      "http://search.johnson.manatron.com/details.php?DB_account=R000109145 Index Error\n",
      "http://search.johnson.manatron.com/details.php?DB_account=R000109146 Index Error\n",
      "http://search.johnson.manatron.com/details.php?DB_account=R000109147 Index Error\n",
      "http://search.johnson.manatron.com/details.php?DB_account=R000109148 Index Error\n",
      "http://search.johnson.manatron.com/details.php?DB_account=R000109149 Index Error\n",
      "http://search.johnson.manatron.com/details.php?DB_account=R000109150 Index Error\n",
      "http://search.johnson.manatron.com/details.php?DB_account=R000109151 Index Error\n",
      "http://search.johnson.manatron.com/details.php?DB_account=R000109152 Index Error\n",
      "http://search.johnson.manatron.com/details.php?DB_account=R000109153 Index Error\n",
      "http://search.johnson.manatron.com/details.php?DB_account=R000109154 Index Error\n",
      "http://search.johnson.manatron.com/details.php?DB_account=R000109155 Index Error\n",
      "http://search.johnson.manatron.com/details.php?DB_account=R000109156 Index Error\n",
      "http://search.johnson.manatron.com/details.php?DB_account=R000109157 Index Error\n",
      "http://search.johnson.manatron.com/details.php?DB_account=R000109158 Index Error\n",
      "http://search.johnson.manatron.com/details.php?DB_account=R000109159 Index Error\n",
      "http://search.johnson.manatron.com/details.php?DB_account=R000109160 Index Error\n",
      "http://search.johnson.manatron.com/details.php?DB_account=R000109161 Index Error\n",
      "http://search.johnson.manatron.com/details.php?DB_account=R000109162 Index Error\n",
      "http://search.johnson.manatron.com/details.php?DB_account=R000109163 Index Error\n",
      "http://search.johnson.manatron.com/details.php?DB_account=R000109164 Index Error\n",
      "http://search.johnson.manatron.com/details.php?DB_account=R000109165 Index Error\n",
      "http://search.johnson.manatron.com/details.php?DB_account=R000109166 Index Error\n",
      "http://search.johnson.manatron.com/details.php?DB_account=R000109167 Index Error\n",
      "http://search.johnson.manatron.com/details.php?DB_account=R000109168 Index Error\n",
      "http://search.johnson.manatron.com/details.php?DB_account=R000109169 Index Error\n",
      "http://search.johnson.manatron.com/details.php?DB_account=R000109170 Index Error\n",
      "http://search.johnson.manatron.com/details.php?DB_account=R000109171 Index Error\n"
     ]
    },
    {
     "name": "stdout",
     "output_type": "stream",
     "text": [
      "http://search.johnson.manatron.com/details.php?DB_account=R000109172 Index Error\n",
      "http://search.johnson.manatron.com/details.php?DB_account=R000109173 Index Error\n",
      "http://search.johnson.manatron.com/details.php?DB_account=R000109174 Index Error\n",
      "http://search.johnson.manatron.com/details.php?DB_account=R000109175 Index Error\n",
      "http://search.johnson.manatron.com/details.php?DB_account=R000109176 Index Error\n",
      "http://search.johnson.manatron.com/details.php?DB_account=R000109177 Index Error\n",
      "http://search.johnson.manatron.com/details.php?DB_account=R000109178 Index Error\n",
      "http://search.johnson.manatron.com/details.php?DB_account=R000109179 Index Error\n",
      "http://search.johnson.manatron.com/details.php?DB_account=R000109180 Index Error\n",
      "http://search.johnson.manatron.com/details.php?DB_account=R000109181 Index Error\n",
      "http://search.johnson.manatron.com/details.php?DB_account=R000109182 Index Error\n",
      "http://search.johnson.manatron.com/details.php?DB_account=R000109183 Index Error\n",
      "http://search.johnson.manatron.com/details.php?DB_account=R000109184 Index Error\n",
      "http://search.johnson.manatron.com/details.php?DB_account=R000109185 Index Error\n",
      "http://search.johnson.manatron.com/details.php?DB_account=R000109186 Index Error\n",
      "http://search.johnson.manatron.com/details.php?DB_account=R000109187 Index Error\n",
      "http://search.johnson.manatron.com/details.php?DB_account=R000109188 Index Error\n",
      "http://search.johnson.manatron.com/details.php?DB_account=R000109189 Index Error\n",
      "http://search.johnson.manatron.com/details.php?DB_account=R000109190 Index Error\n",
      "http://search.johnson.manatron.com/details.php?DB_account=R000109191 Index Error\n",
      "http://search.johnson.manatron.com/details.php?DB_account=R000109192 Index Error\n",
      "http://search.johnson.manatron.com/details.php?DB_account=R000109193 Index Error\n",
      "http://search.johnson.manatron.com/details.php?DB_account=R000109194 Index Error\n",
      "http://search.johnson.manatron.com/details.php?DB_account=R000109195 Index Error\n",
      "http://search.johnson.manatron.com/details.php?DB_account=R000109196 Index Error\n",
      "http://search.johnson.manatron.com/details.php?DB_account=R000109197 Index Error\n",
      "http://search.johnson.manatron.com/details.php?DB_account=R000109198 Index Error\n",
      "http://search.johnson.manatron.com/details.php?DB_account=R000109199 Index Error\n",
      "http://search.johnson.manatron.com/details.php?DB_account=R000109200 Index Error\n",
      "http://search.johnson.manatron.com/details.php?DB_account=R000109201 Index Error\n",
      "http://search.johnson.manatron.com/details.php?DB_account=R000109202 Index Error\n",
      "http://search.johnson.manatron.com/details.php?DB_account=R000109203 Index Error\n",
      "http://search.johnson.manatron.com/details.php?DB_account=R000109204 Index Error\n",
      "http://search.johnson.manatron.com/details.php?DB_account=R000109205 Index Error\n",
      "http://search.johnson.manatron.com/details.php?DB_account=R000109206 Index Error\n",
      "http://search.johnson.manatron.com/details.php?DB_account=R000109207 Index Error\n",
      "http://search.johnson.manatron.com/details.php?DB_account=R000109208 Index Error\n",
      "http://search.johnson.manatron.com/details.php?DB_account=R000109209 Index Error\n",
      "http://search.johnson.manatron.com/details.php?DB_account=R000109210 Index Error\n",
      "http://search.johnson.manatron.com/details.php?DB_account=R000109211 Index Error\n",
      "http://search.johnson.manatron.com/details.php?DB_account=R000109212 Index Error\n",
      "http://search.johnson.manatron.com/details.php?DB_account=R000109213 Index Error\n",
      "http://search.johnson.manatron.com/details.php?DB_account=R000109214 Index Error\n",
      "http://search.johnson.manatron.com/details.php?DB_account=R000109215 Index Error\n",
      "http://search.johnson.manatron.com/details.php?DB_account=R000109216 Index Error\n",
      "http://search.johnson.manatron.com/details.php?DB_account=R000109217 Index Error\n",
      "http://search.johnson.manatron.com/details.php?DB_account=R000109218 Index Error\n",
      "http://search.johnson.manatron.com/details.php?DB_account=R000109219 Index Error\n",
      "http://search.johnson.manatron.com/details.php?DB_account=R000109220 Index Error\n",
      "http://search.johnson.manatron.com/details.php?DB_account=R000109221 Index Error\n",
      "http://search.johnson.manatron.com/details.php?DB_account=R000109222 Index Error\n",
      "http://search.johnson.manatron.com/details.php?DB_account=R000109223 Index Error\n",
      "http://search.johnson.manatron.com/details.php?DB_account=R000109224 Index Error\n",
      "http://search.johnson.manatron.com/details.php?DB_account=R000109225 Index Error\n",
      "http://search.johnson.manatron.com/details.php?DB_account=R000109226 Index Error\n",
      "http://search.johnson.manatron.com/details.php?DB_account=R000109227 Index Error\n",
      "http://search.johnson.manatron.com/details.php?DB_account=R000109228 Index Error\n",
      "http://search.johnson.manatron.com/details.php?DB_account=R000109229 Index Error\n",
      "http://search.johnson.manatron.com/details.php?DB_account=R000109230 Index Error\n",
      "http://search.johnson.manatron.com/details.php?DB_account=R000109231 Index Error\n",
      "http://search.johnson.manatron.com/details.php?DB_account=R000109232 Index Error\n",
      "http://search.johnson.manatron.com/details.php?DB_account=R000109233 Index Error\n",
      "http://search.johnson.manatron.com/details.php?DB_account=R000109234 Index Error\n",
      "http://search.johnson.manatron.com/details.php?DB_account=R000109235 Index Error\n",
      "http://search.johnson.manatron.com/details.php?DB_account=R000109236 Index Error\n",
      "http://search.johnson.manatron.com/details.php?DB_account=R000109237 Index Error\n",
      "http://search.johnson.manatron.com/details.php?DB_account=R000109238 Index Error\n",
      "http://search.johnson.manatron.com/details.php?DB_account=R000109239 Index Error\n",
      "http://search.johnson.manatron.com/details.php?DB_account=R000109240 Index Error\n",
      "http://search.johnson.manatron.com/details.php?DB_account=R000109241 Index Error\n",
      "http://search.johnson.manatron.com/details.php?DB_account=R000109242 Index Error\n",
      "http://search.johnson.manatron.com/details.php?DB_account=R000109243 Index Error\n",
      "http://search.johnson.manatron.com/details.php?DB_account=R000109244 Index Error\n",
      "http://search.johnson.manatron.com/details.php?DB_account=R000109245 Index Error\n",
      "http://search.johnson.manatron.com/details.php?DB_account=R000109246 Index Error\n",
      "http://search.johnson.manatron.com/details.php?DB_account=R000109247 Index Error\n",
      "http://search.johnson.manatron.com/details.php?DB_account=R000109248 Index Error\n",
      "http://search.johnson.manatron.com/details.php?DB_account=R000109249 Index Error\n",
      "http://search.johnson.manatron.com/details.php?DB_account=R000109250 Index Error\n",
      "http://search.johnson.manatron.com/details.php?DB_account=R000109251 Index Error\n",
      "http://search.johnson.manatron.com/details.php?DB_account=R000109252 Index Error\n",
      "http://search.johnson.manatron.com/details.php?DB_account=R000109253 Index Error\n",
      "http://search.johnson.manatron.com/details.php?DB_account=R000109254 Index Error\n",
      "http://search.johnson.manatron.com/details.php?DB_account=R000109255 Index Error\n",
      "http://search.johnson.manatron.com/details.php?DB_account=R000109256 Index Error\n",
      "http://search.johnson.manatron.com/details.php?DB_account=R000109257 Index Error\n",
      "http://search.johnson.manatron.com/details.php?DB_account=R000109258 Index Error\n",
      "http://search.johnson.manatron.com/details.php?DB_account=R000109259 Index Error\n",
      "http://search.johnson.manatron.com/details.php?DB_account=R000109260 Index Error\n",
      "http://search.johnson.manatron.com/details.php?DB_account=R000109261 Index Error\n",
      "http://search.johnson.manatron.com/details.php?DB_account=R000109262 Index Error\n",
      "http://search.johnson.manatron.com/details.php?DB_account=R000109263 Index Error\n",
      "http://search.johnson.manatron.com/details.php?DB_account=R000109264 Index Error\n",
      "http://search.johnson.manatron.com/details.php?DB_account=R000109265 Index Error\n",
      "http://search.johnson.manatron.com/details.php?DB_account=R000109266 Index Error\n",
      "http://search.johnson.manatron.com/details.php?DB_account=R000109267 Index Error\n",
      "http://search.johnson.manatron.com/details.php?DB_account=R000109268 Index Error\n",
      "http://search.johnson.manatron.com/details.php?DB_account=R000109269 Index Error\n",
      "http://search.johnson.manatron.com/details.php?DB_account=R000109270 Index Error\n",
      "http://search.johnson.manatron.com/details.php?DB_account=R000109271 Index Error\n",
      "http://search.johnson.manatron.com/details.php?DB_account=R000109272 Index Error\n",
      "http://search.johnson.manatron.com/details.php?DB_account=R000109273 Index Error\n"
     ]
    },
    {
     "name": "stdout",
     "output_type": "stream",
     "text": [
      "http://search.johnson.manatron.com/details.php?DB_account=R000109274 Index Error\n",
      "http://search.johnson.manatron.com/details.php?DB_account=R000109275 Index Error\n",
      "http://search.johnson.manatron.com/details.php?DB_account=R000109276 Index Error\n",
      "http://search.johnson.manatron.com/details.php?DB_account=R000109277 Index Error\n",
      "http://search.johnson.manatron.com/details.php?DB_account=R000109278 Index Error\n",
      "http://search.johnson.manatron.com/details.php?DB_account=R000109279 Index Error\n",
      "http://search.johnson.manatron.com/details.php?DB_account=R000109280 Index Error\n",
      "http://search.johnson.manatron.com/details.php?DB_account=R000109281 Index Error\n",
      "http://search.johnson.manatron.com/details.php?DB_account=R000109282 Index Error\n",
      "http://search.johnson.manatron.com/details.php?DB_account=R000109283 Index Error\n",
      "http://search.johnson.manatron.com/details.php?DB_account=R000109284 Index Error\n",
      "http://search.johnson.manatron.com/details.php?DB_account=R000109285 Index Error\n",
      "http://search.johnson.manatron.com/details.php?DB_account=R000109286 Index Error\n",
      "http://search.johnson.manatron.com/details.php?DB_account=R000109287 Index Error\n",
      "http://search.johnson.manatron.com/details.php?DB_account=R000109288 Index Error\n",
      "http://search.johnson.manatron.com/details.php?DB_account=R000109289 Index Error\n",
      "http://search.johnson.manatron.com/details.php?DB_account=R000109290 Index Error\n",
      "http://search.johnson.manatron.com/details.php?DB_account=R000109291 Index Error\n",
      "http://search.johnson.manatron.com/details.php?DB_account=R000109292 Index Error\n",
      "http://search.johnson.manatron.com/details.php?DB_account=R000109293 Index Error\n",
      "http://search.johnson.manatron.com/details.php?DB_account=R000109294 Index Error\n",
      "http://search.johnson.manatron.com/details.php?DB_account=R000109295 Index Error\n",
      "http://search.johnson.manatron.com/details.php?DB_account=R000109296 Index Error\n",
      "http://search.johnson.manatron.com/details.php?DB_account=R000109297 Index Error\n",
      "http://search.johnson.manatron.com/details.php?DB_account=R000109298 Index Error\n",
      "http://search.johnson.manatron.com/details.php?DB_account=R000109299 Index Error\n",
      "http://search.johnson.manatron.com/details.php?DB_account=R000109300 Index Error\n",
      "http://search.johnson.manatron.com/details.php?DB_account=R000109301 Index Error\n",
      "http://search.johnson.manatron.com/details.php?DB_account=R000109302 Index Error\n",
      "http://search.johnson.manatron.com/details.php?DB_account=R000109303 Index Error\n",
      "http://search.johnson.manatron.com/details.php?DB_account=R000109304 Index Error\n",
      "http://search.johnson.manatron.com/details.php?DB_account=R000109305 Index Error\n",
      "http://search.johnson.manatron.com/details.php?DB_account=R000109306 Index Error\n",
      "http://search.johnson.manatron.com/details.php?DB_account=R000109307 Index Error\n",
      "http://search.johnson.manatron.com/details.php?DB_account=R000109308 Index Error\n",
      "http://search.johnson.manatron.com/details.php?DB_account=R000109309 Index Error\n",
      "http://search.johnson.manatron.com/details.php?DB_account=R000109310 Index Error\n",
      "http://search.johnson.manatron.com/details.php?DB_account=R000109311 Index Error\n",
      "http://search.johnson.manatron.com/details.php?DB_account=R000109312 Index Error\n",
      "http://search.johnson.manatron.com/details.php?DB_account=R000109313 Index Error\n",
      "http://search.johnson.manatron.com/details.php?DB_account=R000109314 Index Error\n",
      "http://search.johnson.manatron.com/details.php?DB_account=R000109315 Index Error\n",
      "http://search.johnson.manatron.com/details.php?DB_account=R000109316 Index Error\n",
      "http://search.johnson.manatron.com/details.php?DB_account=R000109317 Index Error\n",
      "http://search.johnson.manatron.com/details.php?DB_account=R000109318 Index Error\n",
      "http://search.johnson.manatron.com/details.php?DB_account=R000109319 Index Error\n",
      "http://search.johnson.manatron.com/details.php?DB_account=R000109320 Index Error\n",
      "http://search.johnson.manatron.com/details.php?DB_account=R000109321 Index Error\n",
      "http://search.johnson.manatron.com/details.php?DB_account=R000109322 Index Error\n",
      "http://search.johnson.manatron.com/details.php?DB_account=R000109323 Index Error\n",
      "http://search.johnson.manatron.com/details.php?DB_account=R000109324 Index Error\n",
      "http://search.johnson.manatron.com/details.php?DB_account=R000109325 Index Error\n",
      "http://search.johnson.manatron.com/details.php?DB_account=R000109326 Index Error\n",
      "http://search.johnson.manatron.com/details.php?DB_account=R000109327 Index Error\n",
      "http://search.johnson.manatron.com/details.php?DB_account=R000109328 Index Error\n",
      "http://search.johnson.manatron.com/details.php?DB_account=R000109329 Index Error\n",
      "http://search.johnson.manatron.com/details.php?DB_account=R000109330 Index Error\n",
      "http://search.johnson.manatron.com/details.php?DB_account=R000109331 Index Error\n",
      "http://search.johnson.manatron.com/details.php?DB_account=R000109332 Index Error\n",
      "http://search.johnson.manatron.com/details.php?DB_account=R000109333 Index Error\n",
      "http://search.johnson.manatron.com/details.php?DB_account=R000109334 Index Error\n",
      "http://search.johnson.manatron.com/details.php?DB_account=R000109335 Index Error\n",
      "http://search.johnson.manatron.com/details.php?DB_account=R000109336 Index Error\n",
      "http://search.johnson.manatron.com/details.php?DB_account=R000109337 Index Error\n",
      "http://search.johnson.manatron.com/details.php?DB_account=R000109338 Index Error\n",
      "http://search.johnson.manatron.com/details.php?DB_account=R000109339 Index Error\n",
      "http://search.johnson.manatron.com/details.php?DB_account=R000109340 Index Error\n",
      "http://search.johnson.manatron.com/details.php?DB_account=R000109341 Index Error\n",
      "http://search.johnson.manatron.com/details.php?DB_account=R000109342 Index Error\n",
      "http://search.johnson.manatron.com/details.php?DB_account=R000109343 Index Error\n",
      "http://search.johnson.manatron.com/details.php?DB_account=R000109344 Index Error\n",
      "http://search.johnson.manatron.com/details.php?DB_account=R000109345 Index Error\n",
      "http://search.johnson.manatron.com/details.php?DB_account=R000109346 Index Error\n",
      "http://search.johnson.manatron.com/details.php?DB_account=R000109347 Index Error\n",
      "http://search.johnson.manatron.com/details.php?DB_account=R000109348 Index Error\n",
      "http://search.johnson.manatron.com/details.php?DB_account=R000109349 Index Error\n",
      "http://search.johnson.manatron.com/details.php?DB_account=R000109350 Index Error\n",
      "http://search.johnson.manatron.com/details.php?DB_account=R000109351 Index Error\n",
      "http://search.johnson.manatron.com/details.php?DB_account=R000109352 Index Error\n",
      "http://search.johnson.manatron.com/details.php?DB_account=R000109353 Index Error\n",
      "http://search.johnson.manatron.com/details.php?DB_account=R000109354 Index Error\n",
      "http://search.johnson.manatron.com/details.php?DB_account=R000109355 Index Error\n",
      "http://search.johnson.manatron.com/details.php?DB_account=R000109356 Index Error\n",
      "http://search.johnson.manatron.com/details.php?DB_account=R000109357 Index Error\n",
      "http://search.johnson.manatron.com/details.php?DB_account=R000109358 Index Error\n",
      "http://search.johnson.manatron.com/details.php?DB_account=R000109359 Index Error\n",
      "http://search.johnson.manatron.com/details.php?DB_account=R000109360 Index Error\n",
      "http://search.johnson.manatron.com/details.php?DB_account=R000109361 Index Error\n",
      "http://search.johnson.manatron.com/details.php?DB_account=R000109362 Index Error\n",
      "http://search.johnson.manatron.com/details.php?DB_account=R000109363 Index Error\n",
      "http://search.johnson.manatron.com/details.php?DB_account=R000109364 Index Error\n",
      "http://search.johnson.manatron.com/details.php?DB_account=R000109365 Index Error\n",
      "http://search.johnson.manatron.com/details.php?DB_account=R000109366 Index Error\n",
      "http://search.johnson.manatron.com/details.php?DB_account=R000109367 Index Error\n",
      "http://search.johnson.manatron.com/details.php?DB_account=R000109368 Index Error\n",
      "http://search.johnson.manatron.com/details.php?DB_account=R000109369 Index Error\n",
      "http://search.johnson.manatron.com/details.php?DB_account=R000109370 Index Error\n",
      "http://search.johnson.manatron.com/details.php?DB_account=R000109371 Index Error\n",
      "http://search.johnson.manatron.com/details.php?DB_account=R000109372 Index Error\n",
      "http://search.johnson.manatron.com/details.php?DB_account=R000109373 Index Error\n",
      "http://search.johnson.manatron.com/details.php?DB_account=R000109374 Index Error\n",
      "http://search.johnson.manatron.com/details.php?DB_account=R000109375 Index Error\n"
     ]
    },
    {
     "name": "stdout",
     "output_type": "stream",
     "text": [
      "http://search.johnson.manatron.com/details.php?DB_account=R000109376 Index Error\n",
      "http://search.johnson.manatron.com/details.php?DB_account=R000109377 Index Error\n",
      "http://search.johnson.manatron.com/details.php?DB_account=R000109378 Index Error\n",
      "http://search.johnson.manatron.com/details.php?DB_account=R000109379 Index Error\n",
      "http://search.johnson.manatron.com/details.php?DB_account=R000109380 Index Error\n",
      "http://search.johnson.manatron.com/details.php?DB_account=R000109381 Index Error\n",
      "http://search.johnson.manatron.com/details.php?DB_account=R000109382 Index Error\n",
      "http://search.johnson.manatron.com/details.php?DB_account=R000109383 Index Error\n",
      "http://search.johnson.manatron.com/details.php?DB_account=R000109384 Index Error\n",
      "http://search.johnson.manatron.com/details.php?DB_account=R000109385 Index Error\n",
      "http://search.johnson.manatron.com/details.php?DB_account=R000109386 Index Error\n",
      "http://search.johnson.manatron.com/details.php?DB_account=R000109387 Index Error\n",
      "http://search.johnson.manatron.com/details.php?DB_account=R000109388 Index Error\n",
      "http://search.johnson.manatron.com/details.php?DB_account=R000109389 Index Error\n",
      "http://search.johnson.manatron.com/details.php?DB_account=R000109390 Index Error\n",
      "http://search.johnson.manatron.com/details.php?DB_account=R000109391 Index Error\n",
      "http://search.johnson.manatron.com/details.php?DB_account=R000109392 Index Error\n",
      "http://search.johnson.manatron.com/details.php?DB_account=R000109393 Index Error\n",
      "http://search.johnson.manatron.com/details.php?DB_account=R000109394 Index Error\n",
      "http://search.johnson.manatron.com/details.php?DB_account=R000109395 Index Error\n",
      "http://search.johnson.manatron.com/details.php?DB_account=R000109396 Index Error\n",
      "http://search.johnson.manatron.com/details.php?DB_account=R000109397 Index Error\n",
      "http://search.johnson.manatron.com/details.php?DB_account=R000109398 Index Error\n",
      "http://search.johnson.manatron.com/details.php?DB_account=R000109399 Index Error\n",
      "http://search.johnson.manatron.com/details.php?DB_account=R000109400 Index Error\n",
      "http://search.johnson.manatron.com/details.php?DB_account=R000109401 Index Error\n",
      "http://search.johnson.manatron.com/details.php?DB_account=R000109402 Index Error\n",
      "http://search.johnson.manatron.com/details.php?DB_account=R000109403 Index Error\n",
      "http://search.johnson.manatron.com/details.php?DB_account=R000109404 Index Error\n",
      "http://search.johnson.manatron.com/details.php?DB_account=R000109405 Index Error\n",
      "http://search.johnson.manatron.com/details.php?DB_account=R000109406 Index Error\n",
      "http://search.johnson.manatron.com/details.php?DB_account=R000109407 Index Error\n",
      "http://search.johnson.manatron.com/details.php?DB_account=R000109408 Index Error\n",
      "http://search.johnson.manatron.com/details.php?DB_account=R000109409 Index Error\n",
      "http://search.johnson.manatron.com/details.php?DB_account=R000109410 Index Error\n",
      "http://search.johnson.manatron.com/details.php?DB_account=R000109411 Index Error\n",
      "http://search.johnson.manatron.com/details.php?DB_account=R000109412 Index Error\n",
      "http://search.johnson.manatron.com/details.php?DB_account=R000109413 Index Error\n",
      "http://search.johnson.manatron.com/details.php?DB_account=R000109414 Index Error\n",
      "http://search.johnson.manatron.com/details.php?DB_account=R000109415 Index Error\n",
      "http://search.johnson.manatron.com/details.php?DB_account=R000109416 Index Error\n",
      "http://search.johnson.manatron.com/details.php?DB_account=R000109417 Index Error\n",
      "http://search.johnson.manatron.com/details.php?DB_account=R000109418 Index Error\n",
      "http://search.johnson.manatron.com/details.php?DB_account=R000109419 Index Error\n",
      "http://search.johnson.manatron.com/details.php?DB_account=R000109420 Index Error\n",
      "http://search.johnson.manatron.com/details.php?DB_account=R000109421 Index Error\n",
      "http://search.johnson.manatron.com/details.php?DB_account=R000109422 Index Error\n",
      "http://search.johnson.manatron.com/details.php?DB_account=R000109423 Index Error\n",
      "http://search.johnson.manatron.com/details.php?DB_account=R000109424 Index Error\n",
      "http://search.johnson.manatron.com/details.php?DB_account=R000109425 Index Error\n",
      "http://search.johnson.manatron.com/details.php?DB_account=R000109426 Index Error\n",
      "http://search.johnson.manatron.com/details.php?DB_account=R000109427 Index Error\n",
      "http://search.johnson.manatron.com/details.php?DB_account=R000109428 Index Error\n",
      "http://search.johnson.manatron.com/details.php?DB_account=R000109429 Index Error\n",
      "http://search.johnson.manatron.com/details.php?DB_account=R000109430 Index Error\n",
      "http://search.johnson.manatron.com/details.php?DB_account=R000109431 Index Error\n",
      "http://search.johnson.manatron.com/details.php?DB_account=R000109432 Index Error\n",
      "http://search.johnson.manatron.com/details.php?DB_account=R000109433 Index Error\n",
      "http://search.johnson.manatron.com/details.php?DB_account=R000109434 Index Error\n",
      "http://search.johnson.manatron.com/details.php?DB_account=R000109435 Index Error\n",
      "http://search.johnson.manatron.com/details.php?DB_account=R000109436 Index Error\n",
      "http://search.johnson.manatron.com/details.php?DB_account=R000109437 Index Error\n",
      "http://search.johnson.manatron.com/details.php?DB_account=R000109438 Index Error\n",
      "http://search.johnson.manatron.com/details.php?DB_account=R000109439 Index Error\n",
      "http://search.johnson.manatron.com/details.php?DB_account=R000109440 Index Error\n",
      "http://search.johnson.manatron.com/details.php?DB_account=R000109441 Index Error\n",
      "http://search.johnson.manatron.com/details.php?DB_account=R000109442 Index Error\n",
      "http://search.johnson.manatron.com/details.php?DB_account=R000109443 Index Error\n",
      "http://search.johnson.manatron.com/details.php?DB_account=R000109444 Index Error\n",
      "http://search.johnson.manatron.com/details.php?DB_account=R000109445 Index Error\n",
      "http://search.johnson.manatron.com/details.php?DB_account=R000109446 Index Error\n",
      "http://search.johnson.manatron.com/details.php?DB_account=R000109447 Index Error\n",
      "http://search.johnson.manatron.com/details.php?DB_account=R000109448 Index Error\n",
      "http://search.johnson.manatron.com/details.php?DB_account=R000109449 Index Error\n",
      "http://search.johnson.manatron.com/details.php?DB_account=R000109450 Index Error\n",
      "http://search.johnson.manatron.com/details.php?DB_account=R000109451 Index Error\n",
      "http://search.johnson.manatron.com/details.php?DB_account=R000109452 Index Error\n",
      "http://search.johnson.manatron.com/details.php?DB_account=R000109453 Index Error\n",
      "http://search.johnson.manatron.com/details.php?DB_account=R000109454 Index Error\n",
      "http://search.johnson.manatron.com/details.php?DB_account=R000109455 Index Error\n",
      "http://search.johnson.manatron.com/details.php?DB_account=R000109456 Index Error\n",
      "http://search.johnson.manatron.com/details.php?DB_account=R000109457 Index Error\n",
      "http://search.johnson.manatron.com/details.php?DB_account=R000109458 Index Error\n",
      "http://search.johnson.manatron.com/details.php?DB_account=R000109459 Index Error\n",
      "http://search.johnson.manatron.com/details.php?DB_account=R000109460 Index Error\n",
      "http://search.johnson.manatron.com/details.php?DB_account=R000109461 Index Error\n",
      "http://search.johnson.manatron.com/details.php?DB_account=R000109462 Index Error\n",
      "http://search.johnson.manatron.com/details.php?DB_account=R000109463 Index Error\n",
      "http://search.johnson.manatron.com/details.php?DB_account=R000109464 Index Error\n",
      "http://search.johnson.manatron.com/details.php?DB_account=R000109465 Index Error\n",
      "http://search.johnson.manatron.com/details.php?DB_account=R000109466 Index Error\n",
      "http://search.johnson.manatron.com/details.php?DB_account=R000109467 Index Error\n",
      "http://search.johnson.manatron.com/details.php?DB_account=R000109468 Index Error\n",
      "http://search.johnson.manatron.com/details.php?DB_account=R000109469 Index Error\n",
      "http://search.johnson.manatron.com/details.php?DB_account=R000109470 Index Error\n",
      "http://search.johnson.manatron.com/details.php?DB_account=R000109471 Index Error\n",
      "http://search.johnson.manatron.com/details.php?DB_account=R000109472 Index Error\n",
      "http://search.johnson.manatron.com/details.php?DB_account=R000109473 Index Error\n",
      "http://search.johnson.manatron.com/details.php?DB_account=R000109474 Index Error\n",
      "http://search.johnson.manatron.com/details.php?DB_account=R000109475 Index Error\n",
      "http://search.johnson.manatron.com/details.php?DB_account=R000109476 Index Error\n",
      "http://search.johnson.manatron.com/details.php?DB_account=R000109477 Index Error\n"
     ]
    },
    {
     "name": "stdout",
     "output_type": "stream",
     "text": [
      "http://search.johnson.manatron.com/details.php?DB_account=R000109478 Index Error\n",
      "http://search.johnson.manatron.com/details.php?DB_account=R000109479 Index Error\n",
      "http://search.johnson.manatron.com/details.php?DB_account=R000109480 Index Error\n",
      "http://search.johnson.manatron.com/details.php?DB_account=R000109481 Index Error\n",
      "http://search.johnson.manatron.com/details.php?DB_account=R000109482 Index Error\n",
      "http://search.johnson.manatron.com/details.php?DB_account=R000109483 Index Error\n",
      "http://search.johnson.manatron.com/details.php?DB_account=R000109484 Index Error\n",
      "http://search.johnson.manatron.com/details.php?DB_account=R000109485 Index Error\n",
      "http://search.johnson.manatron.com/details.php?DB_account=R000109486 Index Error\n",
      "http://search.johnson.manatron.com/details.php?DB_account=R000109487 Index Error\n",
      "http://search.johnson.manatron.com/details.php?DB_account=R000109488 Index Error\n",
      "http://search.johnson.manatron.com/details.php?DB_account=R000109489 Index Error\n",
      "http://search.johnson.manatron.com/details.php?DB_account=R000109490 Index Error\n",
      "http://search.johnson.manatron.com/details.php?DB_account=R000109491 Index Error\n",
      "http://search.johnson.manatron.com/details.php?DB_account=R000109492 Index Error\n",
      "http://search.johnson.manatron.com/details.php?DB_account=R000109493 Index Error\n",
      "http://search.johnson.manatron.com/details.php?DB_account=R000109494 Index Error\n",
      "http://search.johnson.manatron.com/details.php?DB_account=R000109495 Index Error\n",
      "http://search.johnson.manatron.com/details.php?DB_account=R000109496 Index Error\n",
      "http://search.johnson.manatron.com/details.php?DB_account=R000109497 Index Error\n",
      "http://search.johnson.manatron.com/details.php?DB_account=R000109498 Index Error\n",
      "http://search.johnson.manatron.com/details.php?DB_account=R000109499 Index Error\n",
      "http://search.johnson.manatron.com/details.php?DB_account=R000109500 Index Error\n",
      "http://search.johnson.manatron.com/details.php?DB_account=R000109501 Index Error\n",
      "http://search.johnson.manatron.com/details.php?DB_account=R000109502 Index Error\n",
      "http://search.johnson.manatron.com/details.php?DB_account=R000109503 Index Error\n",
      "http://search.johnson.manatron.com/details.php?DB_account=R000109504 Index Error\n",
      "http://search.johnson.manatron.com/details.php?DB_account=R000109505 Index Error\n",
      "http://search.johnson.manatron.com/details.php?DB_account=R000109506 Index Error\n",
      "http://search.johnson.manatron.com/details.php?DB_account=R000109507 Index Error\n",
      "http://search.johnson.manatron.com/details.php?DB_account=R000109508 Index Error\n",
      "http://search.johnson.manatron.com/details.php?DB_account=R000109509 Index Error\n",
      "http://search.johnson.manatron.com/details.php?DB_account=R000109510 Index Error\n",
      "http://search.johnson.manatron.com/details.php?DB_account=R000109511 Index Error\n",
      "http://search.johnson.manatron.com/details.php?DB_account=R000109512 Index Error\n",
      "http://search.johnson.manatron.com/details.php?DB_account=R000109513 Index Error\n",
      "http://search.johnson.manatron.com/details.php?DB_account=R000109514 Index Error\n",
      "http://search.johnson.manatron.com/details.php?DB_account=R000109515 Index Error\n",
      "http://search.johnson.manatron.com/details.php?DB_account=R000109516 Index Error\n",
      "http://search.johnson.manatron.com/details.php?DB_account=R000109517 Index Error\n",
      "http://search.johnson.manatron.com/details.php?DB_account=R000109518 Index Error\n",
      "http://search.johnson.manatron.com/details.php?DB_account=R000109519 Index Error\n",
      "http://search.johnson.manatron.com/details.php?DB_account=R000109520 Index Error\n",
      "http://search.johnson.manatron.com/details.php?DB_account=R000109521 Index Error\n",
      "http://search.johnson.manatron.com/details.php?DB_account=R000109522 Index Error\n",
      "http://search.johnson.manatron.com/details.php?DB_account=R000109523 Index Error\n",
      "http://search.johnson.manatron.com/details.php?DB_account=R000109524 Index Error\n",
      "http://search.johnson.manatron.com/details.php?DB_account=R000109525 Index Error\n",
      "http://search.johnson.manatron.com/details.php?DB_account=R000109526 Index Error\n",
      "http://search.johnson.manatron.com/details.php?DB_account=R000109527 Index Error\n",
      "http://search.johnson.manatron.com/details.php?DB_account=R000109528 Index Error\n",
      "http://search.johnson.manatron.com/details.php?DB_account=R000109529 Index Error\n",
      "http://search.johnson.manatron.com/details.php?DB_account=R000109530 Index Error\n",
      "http://search.johnson.manatron.com/details.php?DB_account=R000109531 Index Error\n",
      "http://search.johnson.manatron.com/details.php?DB_account=R000109532 Index Error\n",
      "http://search.johnson.manatron.com/details.php?DB_account=R000109533 Index Error\n",
      "http://search.johnson.manatron.com/details.php?DB_account=R000109534 Index Error\n",
      "http://search.johnson.manatron.com/details.php?DB_account=R000109535 Index Error\n",
      "http://search.johnson.manatron.com/details.php?DB_account=R000109536 Index Error\n",
      "http://search.johnson.manatron.com/details.php?DB_account=R000109537 Index Error\n",
      "http://search.johnson.manatron.com/details.php?DB_account=R000109538 Index Error\n",
      "http://search.johnson.manatron.com/details.php?DB_account=R000109539 Index Error\n",
      "http://search.johnson.manatron.com/details.php?DB_account=R000109540 Index Error\n",
      "http://search.johnson.manatron.com/details.php?DB_account=R000109541 Index Error\n",
      "http://search.johnson.manatron.com/details.php?DB_account=R000109542 Index Error\n",
      "http://search.johnson.manatron.com/details.php?DB_account=R000109543 Index Error\n",
      "http://search.johnson.manatron.com/details.php?DB_account=R000109544 Index Error\n",
      "http://search.johnson.manatron.com/details.php?DB_account=R000109545 Index Error\n",
      "http://search.johnson.manatron.com/details.php?DB_account=R000109546 Index Error\n",
      "http://search.johnson.manatron.com/details.php?DB_account=R000109547 Index Error\n",
      "http://search.johnson.manatron.com/details.php?DB_account=R000109548 Index Error\n",
      "http://search.johnson.manatron.com/details.php?DB_account=R000109549 Index Error\n",
      "http://search.johnson.manatron.com/details.php?DB_account=R000109550 Index Error\n",
      "http://search.johnson.manatron.com/details.php?DB_account=R000109551 Index Error\n",
      "http://search.johnson.manatron.com/details.php?DB_account=R000109552 Index Error\n",
      "http://search.johnson.manatron.com/details.php?DB_account=R000109553 Index Error\n",
      "http://search.johnson.manatron.com/details.php?DB_account=R000109554 Index Error\n",
      "http://search.johnson.manatron.com/details.php?DB_account=R000109555 Index Error\n",
      "http://search.johnson.manatron.com/details.php?DB_account=R000109556 Index Error\n",
      "http://search.johnson.manatron.com/details.php?DB_account=R000109557 Index Error\n",
      "http://search.johnson.manatron.com/details.php?DB_account=R000109558 Index Error\n",
      "http://search.johnson.manatron.com/details.php?DB_account=R000109559 Index Error\n",
      "http://search.johnson.manatron.com/details.php?DB_account=R000109560 Index Error\n",
      "http://search.johnson.manatron.com/details.php?DB_account=R000109561 Index Error\n",
      "http://search.johnson.manatron.com/details.php?DB_account=R000109562 Index Error\n",
      "http://search.johnson.manatron.com/details.php?DB_account=R000109563 Index Error\n",
      "http://search.johnson.manatron.com/details.php?DB_account=R000109564 Index Error\n",
      "http://search.johnson.manatron.com/details.php?DB_account=R000109565 Index Error\n",
      "http://search.johnson.manatron.com/details.php?DB_account=R000109566 Index Error\n",
      "http://search.johnson.manatron.com/details.php?DB_account=R000109567 Index Error\n",
      "http://search.johnson.manatron.com/details.php?DB_account=R000109568 Index Error\n",
      "http://search.johnson.manatron.com/details.php?DB_account=R000109569 Index Error\n",
      "http://search.johnson.manatron.com/details.php?DB_account=R000109570 Index Error\n",
      "http://search.johnson.manatron.com/details.php?DB_account=R000109571 Index Error\n",
      "http://search.johnson.manatron.com/details.php?DB_account=R000109572 Index Error\n",
      "http://search.johnson.manatron.com/details.php?DB_account=R000109573 Index Error\n",
      "http://search.johnson.manatron.com/details.php?DB_account=R000109574 Index Error\n",
      "http://search.johnson.manatron.com/details.php?DB_account=R000109575 Index Error\n",
      "http://search.johnson.manatron.com/details.php?DB_account=R000109576 Index Error\n",
      "http://search.johnson.manatron.com/details.php?DB_account=R000109577 Index Error\n",
      "http://search.johnson.manatron.com/details.php?DB_account=R000109578 Index Error\n",
      "http://search.johnson.manatron.com/details.php?DB_account=R000109579 Index Error\n"
     ]
    },
    {
     "name": "stdout",
     "output_type": "stream",
     "text": [
      "http://search.johnson.manatron.com/details.php?DB_account=R000109580 Index Error\n",
      "http://search.johnson.manatron.com/details.php?DB_account=R000109581 Index Error\n",
      "http://search.johnson.manatron.com/details.php?DB_account=R000109582 Index Error\n",
      "http://search.johnson.manatron.com/details.php?DB_account=R000109583 Index Error\n",
      "http://search.johnson.manatron.com/details.php?DB_account=R000109584 Index Error\n",
      "http://search.johnson.manatron.com/details.php?DB_account=R000109585 Index Error\n",
      "http://search.johnson.manatron.com/details.php?DB_account=R000109586 Index Error\n",
      "http://search.johnson.manatron.com/details.php?DB_account=R000109587 Index Error\n",
      "http://search.johnson.manatron.com/details.php?DB_account=R000109588 Index Error\n",
      "http://search.johnson.manatron.com/details.php?DB_account=R000109589 Index Error\n",
      "http://search.johnson.manatron.com/details.php?DB_account=R000109590 Index Error\n",
      "http://search.johnson.manatron.com/details.php?DB_account=R000109591 Index Error\n",
      "http://search.johnson.manatron.com/details.php?DB_account=R000109592 Index Error\n",
      "http://search.johnson.manatron.com/details.php?DB_account=R000109593 Index Error\n",
      "http://search.johnson.manatron.com/details.php?DB_account=R000109594 Index Error\n",
      "http://search.johnson.manatron.com/details.php?DB_account=R000109595 Index Error\n",
      "http://search.johnson.manatron.com/details.php?DB_account=R000109596 Index Error\n",
      "http://search.johnson.manatron.com/details.php?DB_account=R000109597 Index Error\n",
      "http://search.johnson.manatron.com/details.php?DB_account=R000109598 Index Error\n",
      "http://search.johnson.manatron.com/details.php?DB_account=R000109599 Index Error\n",
      "http://search.johnson.manatron.com/details.php?DB_account=R000109600 Index Error\n",
      "http://search.johnson.manatron.com/details.php?DB_account=R000109601 Index Error\n",
      "http://search.johnson.manatron.com/details.php?DB_account=R000109602 Index Error\n",
      "http://search.johnson.manatron.com/details.php?DB_account=R000109603 Index Error\n",
      "http://search.johnson.manatron.com/details.php?DB_account=R000109604 Index Error\n",
      "http://search.johnson.manatron.com/details.php?DB_account=R000109605 Index Error\n",
      "http://search.johnson.manatron.com/details.php?DB_account=R000109606 Index Error\n",
      "http://search.johnson.manatron.com/details.php?DB_account=R000109607 Index Error\n",
      "http://search.johnson.manatron.com/details.php?DB_account=R000109608 Index Error\n",
      "http://search.johnson.manatron.com/details.php?DB_account=R000109609 Index Error\n",
      "http://search.johnson.manatron.com/details.php?DB_account=R000109610 Index Error\n",
      "http://search.johnson.manatron.com/details.php?DB_account=R000109611 Index Error\n",
      "http://search.johnson.manatron.com/details.php?DB_account=R000109612 Index Error\n",
      "http://search.johnson.manatron.com/details.php?DB_account=R000109613 Index Error\n",
      "http://search.johnson.manatron.com/details.php?DB_account=R000109614 Index Error\n",
      "http://search.johnson.manatron.com/details.php?DB_account=R000109615 Index Error\n",
      "http://search.johnson.manatron.com/details.php?DB_account=R000109616 Index Error\n",
      "http://search.johnson.manatron.com/details.php?DB_account=R000109617 Index Error\n",
      "http://search.johnson.manatron.com/details.php?DB_account=R000109618 Index Error\n",
      "http://search.johnson.manatron.com/details.php?DB_account=R000109619 Index Error\n",
      "http://search.johnson.manatron.com/details.php?DB_account=R000109620 Index Error\n",
      "http://search.johnson.manatron.com/details.php?DB_account=R000109621 Index Error\n",
      "http://search.johnson.manatron.com/details.php?DB_account=R000109622 Index Error\n",
      "http://search.johnson.manatron.com/details.php?DB_account=R000109623 Index Error\n",
      "http://search.johnson.manatron.com/details.php?DB_account=R000109624 Index Error\n",
      "http://search.johnson.manatron.com/details.php?DB_account=R000109625 Index Error\n",
      "http://search.johnson.manatron.com/details.php?DB_account=R000109626 Index Error\n",
      "http://search.johnson.manatron.com/details.php?DB_account=R000109627 Index Error\n",
      "http://search.johnson.manatron.com/details.php?DB_account=R000109628 Index Error\n",
      "http://search.johnson.manatron.com/details.php?DB_account=R000109629 Index Error\n",
      "http://search.johnson.manatron.com/details.php?DB_account=R000109630 Index Error\n",
      "http://search.johnson.manatron.com/details.php?DB_account=R000109631 Index Error\n",
      "http://search.johnson.manatron.com/details.php?DB_account=R000109632 Index Error\n",
      "http://search.johnson.manatron.com/details.php?DB_account=R000109633 Index Error\n",
      "http://search.johnson.manatron.com/details.php?DB_account=R000109634 Index Error\n",
      "http://search.johnson.manatron.com/details.php?DB_account=R000109635 Index Error\n",
      "http://search.johnson.manatron.com/details.php?DB_account=R000109636 Index Error\n",
      "http://search.johnson.manatron.com/details.php?DB_account=R000109637 Index Error\n",
      "http://search.johnson.manatron.com/details.php?DB_account=R000109638 Index Error\n",
      "http://search.johnson.manatron.com/details.php?DB_account=R000109639 Index Error\n",
      "http://search.johnson.manatron.com/details.php?DB_account=R000109640 Index Error\n",
      "http://search.johnson.manatron.com/details.php?DB_account=R000109641 Index Error\n",
      "http://search.johnson.manatron.com/details.php?DB_account=R000109642 Index Error\n",
      "http://search.johnson.manatron.com/details.php?DB_account=R000109643 Index Error\n",
      "http://search.johnson.manatron.com/details.php?DB_account=R000109644 Index Error\n",
      "http://search.johnson.manatron.com/details.php?DB_account=R000109645 Index Error\n",
      "http://search.johnson.manatron.com/details.php?DB_account=R000109646 Index Error\n",
      "http://search.johnson.manatron.com/details.php?DB_account=R000109647 Index Error\n",
      "http://search.johnson.manatron.com/details.php?DB_account=R000109648 Index Error\n",
      "http://search.johnson.manatron.com/details.php?DB_account=R000109649 Index Error\n",
      "http://search.johnson.manatron.com/details.php?DB_account=R000109650 Index Error\n",
      "http://search.johnson.manatron.com/details.php?DB_account=R000109651 Index Error\n",
      "http://search.johnson.manatron.com/details.php?DB_account=R000109652 Index Error\n",
      "http://search.johnson.manatron.com/details.php?DB_account=R000109653 Index Error\n",
      "http://search.johnson.manatron.com/details.php?DB_account=R000109654 Index Error\n",
      "http://search.johnson.manatron.com/details.php?DB_account=R000109655 Index Error\n",
      "http://search.johnson.manatron.com/details.php?DB_account=R000109656 Index Error\n",
      "http://search.johnson.manatron.com/details.php?DB_account=R000109657 Index Error\n",
      "http://search.johnson.manatron.com/details.php?DB_account=R000109658 Index Error\n",
      "http://search.johnson.manatron.com/details.php?DB_account=R000109659 Index Error\n",
      "http://search.johnson.manatron.com/details.php?DB_account=R000109660 Index Error\n",
      "http://search.johnson.manatron.com/details.php?DB_account=R000109661 Index Error\n",
      "http://search.johnson.manatron.com/details.php?DB_account=R000109662 Index Error\n",
      "http://search.johnson.manatron.com/details.php?DB_account=R000109663 Index Error\n",
      "http://search.johnson.manatron.com/details.php?DB_account=R000109664 Index Error\n",
      "http://search.johnson.manatron.com/details.php?DB_account=R000109665 Index Error\n",
      "http://search.johnson.manatron.com/details.php?DB_account=R000109666 Index Error\n",
      "http://search.johnson.manatron.com/details.php?DB_account=R000109667 Index Error\n",
      "http://search.johnson.manatron.com/details.php?DB_account=R000109668 Index Error\n",
      "http://search.johnson.manatron.com/details.php?DB_account=R000109669 Index Error\n",
      "http://search.johnson.manatron.com/details.php?DB_account=R000109670 Index Error\n",
      "http://search.johnson.manatron.com/details.php?DB_account=R000109671 Index Error\n",
      "http://search.johnson.manatron.com/details.php?DB_account=R000109672 Index Error\n",
      "http://search.johnson.manatron.com/details.php?DB_account=R000109673 Index Error\n",
      "http://search.johnson.manatron.com/details.php?DB_account=R000109674 Index Error\n",
      "http://search.johnson.manatron.com/details.php?DB_account=R000109675 Index Error\n",
      "http://search.johnson.manatron.com/details.php?DB_account=R000109676 Index Error\n",
      "http://search.johnson.manatron.com/details.php?DB_account=R000109677 Index Error\n",
      "http://search.johnson.manatron.com/details.php?DB_account=R000109678 Index Error\n",
      "http://search.johnson.manatron.com/details.php?DB_account=R000109679 Index Error\n",
      "http://search.johnson.manatron.com/details.php?DB_account=R000109680 Index Error\n",
      "http://search.johnson.manatron.com/details.php?DB_account=R000109681 Index Error\n"
     ]
    },
    {
     "name": "stdout",
     "output_type": "stream",
     "text": [
      "http://search.johnson.manatron.com/details.php?DB_account=R000109682 Index Error\n",
      "http://search.johnson.manatron.com/details.php?DB_account=R000109683 Index Error\n",
      "http://search.johnson.manatron.com/details.php?DB_account=R000109684 Index Error\n",
      "http://search.johnson.manatron.com/details.php?DB_account=R000109685 Index Error\n",
      "http://search.johnson.manatron.com/details.php?DB_account=R000109686 Index Error\n",
      "http://search.johnson.manatron.com/details.php?DB_account=R000109687 Index Error\n",
      "http://search.johnson.manatron.com/details.php?DB_account=R000109688 Index Error\n",
      "http://search.johnson.manatron.com/details.php?DB_account=R000109689 Index Error\n",
      "http://search.johnson.manatron.com/details.php?DB_account=R000109690 Index Error\n",
      "http://search.johnson.manatron.com/details.php?DB_account=R000109691 Index Error\n",
      "http://search.johnson.manatron.com/details.php?DB_account=R000109692 Index Error\n",
      "http://search.johnson.manatron.com/details.php?DB_account=R000109693 Index Error\n",
      "http://search.johnson.manatron.com/details.php?DB_account=R000109694 Index Error\n",
      "http://search.johnson.manatron.com/details.php?DB_account=R000109695 Index Error\n",
      "http://search.johnson.manatron.com/details.php?DB_account=R000109696 Index Error\n",
      "http://search.johnson.manatron.com/details.php?DB_account=R000109697 Index Error\n",
      "http://search.johnson.manatron.com/details.php?DB_account=R000109698 Index Error\n",
      "http://search.johnson.manatron.com/details.php?DB_account=R000109699 Index Error\n",
      "http://search.johnson.manatron.com/details.php?DB_account=R000109700 Index Error\n",
      "http://search.johnson.manatron.com/details.php?DB_account=R000109701 Index Error\n",
      "http://search.johnson.manatron.com/details.php?DB_account=R000109702 Index Error\n",
      "http://search.johnson.manatron.com/details.php?DB_account=R000109703 Index Error\n",
      "http://search.johnson.manatron.com/details.php?DB_account=R000109704 Index Error\n",
      "http://search.johnson.manatron.com/details.php?DB_account=R000109705 Index Error\n",
      "http://search.johnson.manatron.com/details.php?DB_account=R000109706 Index Error\n",
      "http://search.johnson.manatron.com/details.php?DB_account=R000109707 Index Error\n",
      "http://search.johnson.manatron.com/details.php?DB_account=R000109708 Index Error\n",
      "http://search.johnson.manatron.com/details.php?DB_account=R000109709 Index Error\n",
      "http://search.johnson.manatron.com/details.php?DB_account=R000109710 Index Error\n",
      "http://search.johnson.manatron.com/details.php?DB_account=R000109711 Index Error\n",
      "http://search.johnson.manatron.com/details.php?DB_account=R000109712 Index Error\n",
      "http://search.johnson.manatron.com/details.php?DB_account=R000109713 Index Error\n",
      "http://search.johnson.manatron.com/details.php?DB_account=R000109714 Index Error\n",
      "http://search.johnson.manatron.com/details.php?DB_account=R000109715 Index Error\n",
      "http://search.johnson.manatron.com/details.php?DB_account=R000109716 Index Error\n",
      "http://search.johnson.manatron.com/details.php?DB_account=R000109717 Index Error\n",
      "http://search.johnson.manatron.com/details.php?DB_account=R000109718 Index Error\n",
      "http://search.johnson.manatron.com/details.php?DB_account=R000109719 Index Error\n",
      "http://search.johnson.manatron.com/details.php?DB_account=R000109720 Index Error\n",
      "http://search.johnson.manatron.com/details.php?DB_account=R000109721 Index Error\n",
      "http://search.johnson.manatron.com/details.php?DB_account=R000109722 Index Error\n",
      "http://search.johnson.manatron.com/details.php?DB_account=R000109723 Index Error\n",
      "http://search.johnson.manatron.com/details.php?DB_account=R000109724 Index Error\n",
      "http://search.johnson.manatron.com/details.php?DB_account=R000109725 Index Error\n",
      "http://search.johnson.manatron.com/details.php?DB_account=R000109726 Index Error\n",
      "http://search.johnson.manatron.com/details.php?DB_account=R000109727 Index Error\n",
      "http://search.johnson.manatron.com/details.php?DB_account=R000109728 Index Error\n",
      "http://search.johnson.manatron.com/details.php?DB_account=R000109729 Index Error\n",
      "http://search.johnson.manatron.com/details.php?DB_account=R000109730 Index Error\n",
      "http://search.johnson.manatron.com/details.php?DB_account=R000109731 Index Error\n",
      "http://search.johnson.manatron.com/details.php?DB_account=R000109732 Index Error\n",
      "http://search.johnson.manatron.com/details.php?DB_account=R000109733 Index Error\n",
      "http://search.johnson.manatron.com/details.php?DB_account=R000109734 Index Error\n",
      "http://search.johnson.manatron.com/details.php?DB_account=R000109735 Index Error\n",
      "http://search.johnson.manatron.com/details.php?DB_account=R000109736 Index Error\n",
      "http://search.johnson.manatron.com/details.php?DB_account=R000109737 Index Error\n",
      "http://search.johnson.manatron.com/details.php?DB_account=R000109738 Index Error\n",
      "http://search.johnson.manatron.com/details.php?DB_account=R000109739 Index Error\n",
      "http://search.johnson.manatron.com/details.php?DB_account=R000109740 Index Error\n",
      "http://search.johnson.manatron.com/details.php?DB_account=R000109741 Index Error\n",
      "http://search.johnson.manatron.com/details.php?DB_account=R000109742 Index Error\n",
      "http://search.johnson.manatron.com/details.php?DB_account=R000109743 Index Error\n",
      "http://search.johnson.manatron.com/details.php?DB_account=R000109744 Index Error\n",
      "http://search.johnson.manatron.com/details.php?DB_account=R000109745 Index Error\n",
      "http://search.johnson.manatron.com/details.php?DB_account=R000109746 Index Error\n",
      "http://search.johnson.manatron.com/details.php?DB_account=R000109747 Index Error\n",
      "http://search.johnson.manatron.com/details.php?DB_account=R000109748 Index Error\n",
      "http://search.johnson.manatron.com/details.php?DB_account=R000109749 Index Error\n",
      "http://search.johnson.manatron.com/details.php?DB_account=R000109750 Index Error\n",
      "http://search.johnson.manatron.com/details.php?DB_account=R000109751 Index Error\n",
      "http://search.johnson.manatron.com/details.php?DB_account=R000109752 Index Error\n",
      "http://search.johnson.manatron.com/details.php?DB_account=R000109753 Index Error\n",
      "http://search.johnson.manatron.com/details.php?DB_account=R000109754 Index Error\n",
      "http://search.johnson.manatron.com/details.php?DB_account=R000109755 Index Error\n",
      "http://search.johnson.manatron.com/details.php?DB_account=R000109756 Index Error\n",
      "http://search.johnson.manatron.com/details.php?DB_account=R000109757 Index Error\n",
      "http://search.johnson.manatron.com/details.php?DB_account=R000109758 Index Error\n"
     ]
    },
    {
     "ename": "NameError",
     "evalue": "name 'URLError' is not defined",
     "output_type": "error",
     "traceback": [
      "\u001b[0;31m---------------------------------------------------------------------------\u001b[0m",
      "\u001b[0;31mKeyboardInterrupt\u001b[0m                         Traceback (most recent call last)",
      "\u001b[0;32m<ipython-input-26-b43667f97d03>\u001b[0m in \u001b[0;36m<module>\u001b[0;34m\u001b[0m\n\u001b[1;32m      3\u001b[0m     \u001b[0;32mtry\u001b[0m\u001b[0;34m:\u001b[0m\u001b[0;34m\u001b[0m\u001b[0;34m\u001b[0m\u001b[0m\n\u001b[0;32m----> 4\u001b[0;31m         \u001b[0mgetinfo\u001b[0m\u001b[0;34m(\u001b[0m\u001b[0mURL\u001b[0m\u001b[0;34m)\u001b[0m\u001b[0;34m\u001b[0m\u001b[0;34m\u001b[0m\u001b[0m\n\u001b[0m\u001b[1;32m      5\u001b[0m     \u001b[0;32mexcept\u001b[0m \u001b[0mIndexError\u001b[0m \u001b[0;32mas\u001b[0m \u001b[0mIE\u001b[0m\u001b[0;34m:\u001b[0m\u001b[0;34m\u001b[0m\u001b[0;34m\u001b[0m\u001b[0m\n",
      "\u001b[0;32m<ipython-input-7-e8a2828032c0>\u001b[0m in \u001b[0;36mgetinfo\u001b[0;34m(URL)\u001b[0m\n\u001b[1;32m      2\u001b[0m \u001b[0;32mdef\u001b[0m \u001b[0mgetinfo\u001b[0m\u001b[0;34m(\u001b[0m\u001b[0mURL\u001b[0m\u001b[0;34m)\u001b[0m\u001b[0;34m:\u001b[0m\u001b[0;34m\u001b[0m\u001b[0;34m\u001b[0m\u001b[0m\n\u001b[0;32m----> 3\u001b[0;31m     \u001b[0mhtml\u001b[0m \u001b[0;34m=\u001b[0m \u001b[0murlopen\u001b[0m\u001b[0;34m(\u001b[0m\u001b[0mURL\u001b[0m\u001b[0;34m)\u001b[0m\u001b[0;34m\u001b[0m\u001b[0;34m\u001b[0m\u001b[0m\n\u001b[0m\u001b[1;32m      4\u001b[0m     \u001b[0mbs\u001b[0m \u001b[0;34m=\u001b[0m \u001b[0mBeautifulSoup\u001b[0m\u001b[0;34m(\u001b[0m\u001b[0mhtml\u001b[0m\u001b[0;34m.\u001b[0m\u001b[0mread\u001b[0m\u001b[0;34m(\u001b[0m\u001b[0;34m)\u001b[0m\u001b[0;34m,\u001b[0m \u001b[0;34m'html.parser'\u001b[0m\u001b[0;34m)\u001b[0m\u001b[0;34m\u001b[0m\u001b[0;34m\u001b[0m\u001b[0m\n",
      "\u001b[0;32m~/anaconda3/lib/python3.7/urllib/request.py\u001b[0m in \u001b[0;36murlopen\u001b[0;34m(url, data, timeout, cafile, capath, cadefault, context)\u001b[0m\n\u001b[1;32m    221\u001b[0m         \u001b[0mopener\u001b[0m \u001b[0;34m=\u001b[0m \u001b[0m_opener\u001b[0m\u001b[0;34m\u001b[0m\u001b[0;34m\u001b[0m\u001b[0m\n\u001b[0;32m--> 222\u001b[0;31m     \u001b[0;32mreturn\u001b[0m \u001b[0mopener\u001b[0m\u001b[0;34m.\u001b[0m\u001b[0mopen\u001b[0m\u001b[0;34m(\u001b[0m\u001b[0murl\u001b[0m\u001b[0;34m,\u001b[0m \u001b[0mdata\u001b[0m\u001b[0;34m,\u001b[0m \u001b[0mtimeout\u001b[0m\u001b[0;34m)\u001b[0m\u001b[0;34m\u001b[0m\u001b[0;34m\u001b[0m\u001b[0m\n\u001b[0m\u001b[1;32m    223\u001b[0m \u001b[0;34m\u001b[0m\u001b[0m\n",
      "\u001b[0;32m~/anaconda3/lib/python3.7/urllib/request.py\u001b[0m in \u001b[0;36mopen\u001b[0;34m(self, fullurl, data, timeout)\u001b[0m\n\u001b[1;32m    524\u001b[0m \u001b[0;34m\u001b[0m\u001b[0m\n\u001b[0;32m--> 525\u001b[0;31m         \u001b[0mresponse\u001b[0m \u001b[0;34m=\u001b[0m \u001b[0mself\u001b[0m\u001b[0;34m.\u001b[0m\u001b[0m_open\u001b[0m\u001b[0;34m(\u001b[0m\u001b[0mreq\u001b[0m\u001b[0;34m,\u001b[0m \u001b[0mdata\u001b[0m\u001b[0;34m)\u001b[0m\u001b[0;34m\u001b[0m\u001b[0;34m\u001b[0m\u001b[0m\n\u001b[0m\u001b[1;32m    526\u001b[0m \u001b[0;34m\u001b[0m\u001b[0m\n",
      "\u001b[0;32m~/anaconda3/lib/python3.7/urllib/request.py\u001b[0m in \u001b[0;36m_open\u001b[0;34m(self, req, data)\u001b[0m\n\u001b[1;32m    542\u001b[0m         result = self._call_chain(self.handle_open, protocol, protocol +\n\u001b[0;32m--> 543\u001b[0;31m                                   '_open', req)\n\u001b[0m\u001b[1;32m    544\u001b[0m         \u001b[0;32mif\u001b[0m \u001b[0mresult\u001b[0m\u001b[0;34m:\u001b[0m\u001b[0;34m\u001b[0m\u001b[0;34m\u001b[0m\u001b[0m\n",
      "\u001b[0;32m~/anaconda3/lib/python3.7/urllib/request.py\u001b[0m in \u001b[0;36m_call_chain\u001b[0;34m(self, chain, kind, meth_name, *args)\u001b[0m\n\u001b[1;32m    502\u001b[0m             \u001b[0mfunc\u001b[0m \u001b[0;34m=\u001b[0m \u001b[0mgetattr\u001b[0m\u001b[0;34m(\u001b[0m\u001b[0mhandler\u001b[0m\u001b[0;34m,\u001b[0m \u001b[0mmeth_name\u001b[0m\u001b[0;34m)\u001b[0m\u001b[0;34m\u001b[0m\u001b[0;34m\u001b[0m\u001b[0m\n\u001b[0;32m--> 503\u001b[0;31m             \u001b[0mresult\u001b[0m \u001b[0;34m=\u001b[0m \u001b[0mfunc\u001b[0m\u001b[0;34m(\u001b[0m\u001b[0;34m*\u001b[0m\u001b[0margs\u001b[0m\u001b[0;34m)\u001b[0m\u001b[0;34m\u001b[0m\u001b[0;34m\u001b[0m\u001b[0m\n\u001b[0m\u001b[1;32m    504\u001b[0m             \u001b[0;32mif\u001b[0m \u001b[0mresult\u001b[0m \u001b[0;32mis\u001b[0m \u001b[0;32mnot\u001b[0m \u001b[0;32mNone\u001b[0m\u001b[0;34m:\u001b[0m\u001b[0;34m\u001b[0m\u001b[0;34m\u001b[0m\u001b[0m\n",
      "\u001b[0;32m~/anaconda3/lib/python3.7/urllib/request.py\u001b[0m in \u001b[0;36mhttp_open\u001b[0;34m(self, req)\u001b[0m\n\u001b[1;32m   1344\u001b[0m     \u001b[0;32mdef\u001b[0m \u001b[0mhttp_open\u001b[0m\u001b[0;34m(\u001b[0m\u001b[0mself\u001b[0m\u001b[0;34m,\u001b[0m \u001b[0mreq\u001b[0m\u001b[0;34m)\u001b[0m\u001b[0;34m:\u001b[0m\u001b[0;34m\u001b[0m\u001b[0;34m\u001b[0m\u001b[0m\n\u001b[0;32m-> 1345\u001b[0;31m         \u001b[0;32mreturn\u001b[0m \u001b[0mself\u001b[0m\u001b[0;34m.\u001b[0m\u001b[0mdo_open\u001b[0m\u001b[0;34m(\u001b[0m\u001b[0mhttp\u001b[0m\u001b[0;34m.\u001b[0m\u001b[0mclient\u001b[0m\u001b[0;34m.\u001b[0m\u001b[0mHTTPConnection\u001b[0m\u001b[0;34m,\u001b[0m \u001b[0mreq\u001b[0m\u001b[0;34m)\u001b[0m\u001b[0;34m\u001b[0m\u001b[0;34m\u001b[0m\u001b[0m\n\u001b[0m\u001b[1;32m   1346\u001b[0m \u001b[0;34m\u001b[0m\u001b[0m\n",
      "\u001b[0;32m~/anaconda3/lib/python3.7/urllib/request.py\u001b[0m in \u001b[0;36mdo_open\u001b[0;34m(self, http_class, req, **http_conn_args)\u001b[0m\n\u001b[1;32m   1316\u001b[0m                 h.request(req.get_method(), req.selector, req.data, headers,\n\u001b[0;32m-> 1317\u001b[0;31m                           encode_chunked=req.has_header('Transfer-encoding'))\n\u001b[0m\u001b[1;32m   1318\u001b[0m             \u001b[0;32mexcept\u001b[0m \u001b[0mOSError\u001b[0m \u001b[0;32mas\u001b[0m \u001b[0merr\u001b[0m\u001b[0;34m:\u001b[0m \u001b[0;31m# timeout error\u001b[0m\u001b[0;34m\u001b[0m\u001b[0;34m\u001b[0m\u001b[0m\n",
      "\u001b[0;32m~/anaconda3/lib/python3.7/http/client.py\u001b[0m in \u001b[0;36mrequest\u001b[0;34m(self, method, url, body, headers, encode_chunked)\u001b[0m\n\u001b[1;32m   1228\u001b[0m         \u001b[0;34m\"\"\"Send a complete request to the server.\"\"\"\u001b[0m\u001b[0;34m\u001b[0m\u001b[0;34m\u001b[0m\u001b[0m\n\u001b[0;32m-> 1229\u001b[0;31m         \u001b[0mself\u001b[0m\u001b[0;34m.\u001b[0m\u001b[0m_send_request\u001b[0m\u001b[0;34m(\u001b[0m\u001b[0mmethod\u001b[0m\u001b[0;34m,\u001b[0m \u001b[0murl\u001b[0m\u001b[0;34m,\u001b[0m \u001b[0mbody\u001b[0m\u001b[0;34m,\u001b[0m \u001b[0mheaders\u001b[0m\u001b[0;34m,\u001b[0m \u001b[0mencode_chunked\u001b[0m\u001b[0;34m)\u001b[0m\u001b[0;34m\u001b[0m\u001b[0;34m\u001b[0m\u001b[0m\n\u001b[0m\u001b[1;32m   1230\u001b[0m \u001b[0;34m\u001b[0m\u001b[0m\n",
      "\u001b[0;32m~/anaconda3/lib/python3.7/http/client.py\u001b[0m in \u001b[0;36m_send_request\u001b[0;34m(self, method, url, body, headers, encode_chunked)\u001b[0m\n\u001b[1;32m   1274\u001b[0m             \u001b[0mbody\u001b[0m \u001b[0;34m=\u001b[0m \u001b[0m_encode\u001b[0m\u001b[0;34m(\u001b[0m\u001b[0mbody\u001b[0m\u001b[0;34m,\u001b[0m \u001b[0;34m'body'\u001b[0m\u001b[0;34m)\u001b[0m\u001b[0;34m\u001b[0m\u001b[0;34m\u001b[0m\u001b[0m\n\u001b[0;32m-> 1275\u001b[0;31m         \u001b[0mself\u001b[0m\u001b[0;34m.\u001b[0m\u001b[0mendheaders\u001b[0m\u001b[0;34m(\u001b[0m\u001b[0mbody\u001b[0m\u001b[0;34m,\u001b[0m \u001b[0mencode_chunked\u001b[0m\u001b[0;34m=\u001b[0m\u001b[0mencode_chunked\u001b[0m\u001b[0;34m)\u001b[0m\u001b[0;34m\u001b[0m\u001b[0;34m\u001b[0m\u001b[0m\n\u001b[0m\u001b[1;32m   1276\u001b[0m \u001b[0;34m\u001b[0m\u001b[0m\n",
      "\u001b[0;32m~/anaconda3/lib/python3.7/http/client.py\u001b[0m in \u001b[0;36mendheaders\u001b[0;34m(self, message_body, encode_chunked)\u001b[0m\n\u001b[1;32m   1223\u001b[0m             \u001b[0;32mraise\u001b[0m \u001b[0mCannotSendHeader\u001b[0m\u001b[0;34m(\u001b[0m\u001b[0;34m)\u001b[0m\u001b[0;34m\u001b[0m\u001b[0;34m\u001b[0m\u001b[0m\n\u001b[0;32m-> 1224\u001b[0;31m         \u001b[0mself\u001b[0m\u001b[0;34m.\u001b[0m\u001b[0m_send_output\u001b[0m\u001b[0;34m(\u001b[0m\u001b[0mmessage_body\u001b[0m\u001b[0;34m,\u001b[0m \u001b[0mencode_chunked\u001b[0m\u001b[0;34m=\u001b[0m\u001b[0mencode_chunked\u001b[0m\u001b[0;34m)\u001b[0m\u001b[0;34m\u001b[0m\u001b[0;34m\u001b[0m\u001b[0m\n\u001b[0m\u001b[1;32m   1225\u001b[0m \u001b[0;34m\u001b[0m\u001b[0m\n",
      "\u001b[0;32m~/anaconda3/lib/python3.7/http/client.py\u001b[0m in \u001b[0;36m_send_output\u001b[0;34m(self, message_body, encode_chunked)\u001b[0m\n\u001b[1;32m   1015\u001b[0m         \u001b[0;32mdel\u001b[0m \u001b[0mself\u001b[0m\u001b[0;34m.\u001b[0m\u001b[0m_buffer\u001b[0m\u001b[0;34m[\u001b[0m\u001b[0;34m:\u001b[0m\u001b[0;34m]\u001b[0m\u001b[0;34m\u001b[0m\u001b[0;34m\u001b[0m\u001b[0m\n\u001b[0;32m-> 1016\u001b[0;31m         \u001b[0mself\u001b[0m\u001b[0;34m.\u001b[0m\u001b[0msend\u001b[0m\u001b[0;34m(\u001b[0m\u001b[0mmsg\u001b[0m\u001b[0;34m)\u001b[0m\u001b[0;34m\u001b[0m\u001b[0;34m\u001b[0m\u001b[0m\n\u001b[0m\u001b[1;32m   1017\u001b[0m \u001b[0;34m\u001b[0m\u001b[0m\n",
      "\u001b[0;32m~/anaconda3/lib/python3.7/http/client.py\u001b[0m in \u001b[0;36msend\u001b[0;34m(self, data)\u001b[0m\n\u001b[1;32m    955\u001b[0m             \u001b[0;32mif\u001b[0m \u001b[0mself\u001b[0m\u001b[0;34m.\u001b[0m\u001b[0mauto_open\u001b[0m\u001b[0;34m:\u001b[0m\u001b[0;34m\u001b[0m\u001b[0;34m\u001b[0m\u001b[0m\n\u001b[0;32m--> 956\u001b[0;31m                 \u001b[0mself\u001b[0m\u001b[0;34m.\u001b[0m\u001b[0mconnect\u001b[0m\u001b[0;34m(\u001b[0m\u001b[0;34m)\u001b[0m\u001b[0;34m\u001b[0m\u001b[0;34m\u001b[0m\u001b[0m\n\u001b[0m\u001b[1;32m    957\u001b[0m             \u001b[0;32melse\u001b[0m\u001b[0;34m:\u001b[0m\u001b[0;34m\u001b[0m\u001b[0;34m\u001b[0m\u001b[0m\n",
      "\u001b[0;32m~/anaconda3/lib/python3.7/http/client.py\u001b[0m in \u001b[0;36mconnect\u001b[0;34m(self)\u001b[0m\n\u001b[1;32m    927\u001b[0m         self.sock = self._create_connection(\n\u001b[0;32m--> 928\u001b[0;31m             (self.host,self.port), self.timeout, self.source_address)\n\u001b[0m\u001b[1;32m    929\u001b[0m         \u001b[0mself\u001b[0m\u001b[0;34m.\u001b[0m\u001b[0msock\u001b[0m\u001b[0;34m.\u001b[0m\u001b[0msetsockopt\u001b[0m\u001b[0;34m(\u001b[0m\u001b[0msocket\u001b[0m\u001b[0;34m.\u001b[0m\u001b[0mIPPROTO_TCP\u001b[0m\u001b[0;34m,\u001b[0m \u001b[0msocket\u001b[0m\u001b[0;34m.\u001b[0m\u001b[0mTCP_NODELAY\u001b[0m\u001b[0;34m,\u001b[0m \u001b[0;36m1\u001b[0m\u001b[0;34m)\u001b[0m\u001b[0;34m\u001b[0m\u001b[0;34m\u001b[0m\u001b[0m\n",
      "\u001b[0;32m~/anaconda3/lib/python3.7/socket.py\u001b[0m in \u001b[0;36mcreate_connection\u001b[0;34m(address, timeout, source_address)\u001b[0m\n\u001b[1;32m    715\u001b[0m                 \u001b[0msock\u001b[0m\u001b[0;34m.\u001b[0m\u001b[0mbind\u001b[0m\u001b[0;34m(\u001b[0m\u001b[0msource_address\u001b[0m\u001b[0;34m)\u001b[0m\u001b[0;34m\u001b[0m\u001b[0;34m\u001b[0m\u001b[0m\n\u001b[0;32m--> 716\u001b[0;31m             \u001b[0msock\u001b[0m\u001b[0;34m.\u001b[0m\u001b[0mconnect\u001b[0m\u001b[0;34m(\u001b[0m\u001b[0msa\u001b[0m\u001b[0;34m)\u001b[0m\u001b[0;34m\u001b[0m\u001b[0;34m\u001b[0m\u001b[0m\n\u001b[0m\u001b[1;32m    717\u001b[0m             \u001b[0;31m# Break explicitly a reference cycle\u001b[0m\u001b[0;34m\u001b[0m\u001b[0;34m\u001b[0m\u001b[0;34m\u001b[0m\u001b[0m\n",
      "\u001b[0;31mKeyboardInterrupt\u001b[0m: ",
      "\nDuring handling of the above exception, another exception occurred:\n",
      "\u001b[0;31mNameError\u001b[0m                                 Traceback (most recent call last)",
      "\u001b[0;32m<ipython-input-26-b43667f97d03>\u001b[0m in \u001b[0;36m<module>\u001b[0;34m\u001b[0m\n\u001b[1;32m      6\u001b[0m         \u001b[0mprint\u001b[0m\u001b[0;34m(\u001b[0m\u001b[0mURL\u001b[0m\u001b[0;34m+\u001b[0m\u001b[0;34m\" Index Error\"\u001b[0m\u001b[0;34m)\u001b[0m\u001b[0;34m\u001b[0m\u001b[0;34m\u001b[0m\u001b[0m\n\u001b[1;32m      7\u001b[0m         \u001b[0;32mpass\u001b[0m\u001b[0;34m\u001b[0m\u001b[0;34m\u001b[0m\u001b[0m\n\u001b[0;32m----> 8\u001b[0;31m     \u001b[0;32mexcept\u001b[0m \u001b[0mURLError\u001b[0m \u001b[0;32mas\u001b[0m \u001b[0mUE\u001b[0m\u001b[0;34m:\u001b[0m\u001b[0;34m\u001b[0m\u001b[0;34m\u001b[0m\u001b[0m\n\u001b[0m\u001b[1;32m      9\u001b[0m         \u001b[0mprint\u001b[0m\u001b[0;34m(\u001b[0m\u001b[0mURL\u001b[0m\u001b[0;34m+\u001b[0m\u001b[0;34m\" URL Error\"\u001b[0m\u001b[0;34m)\u001b[0m\u001b[0;34m\u001b[0m\u001b[0;34m\u001b[0m\u001b[0m\n\u001b[1;32m     10\u001b[0m         \u001b[0;32mpass\u001b[0m\u001b[0;34m\u001b[0m\u001b[0;34m\u001b[0m\u001b[0m\n",
      "\u001b[0;31mNameError\u001b[0m: name 'URLError' is not defined"
     ]
    }
   ],
   "source": [
    "result = []\n",
    "for URL in Weblist[109070:150000]:\n",
    "    try:\n",
    "        getinfo(URL)\n",
    "    except IndexError as IE:\n",
    "        print(URL+\" Index Error\")\n",
    "        pass\n",
    "    except URLError as UE:\n",
    "        print(URL+\" URL Error\")\n",
    "        pass\n",
    "    else:\n",
    "        print(URL+\" finished\")\n",
    "        result.append(getinfo(URL))"
   ]
  },
  {
   "cell_type": "code",
   "execution_count": 24,
   "metadata": {},
   "outputs": [],
   "source": [
    "import csv\n",
    "\n",
    "with open('Johnson_County_TX7.csv', 'w',newline='') as myFile:\n",
    "    writer = csv.writer(myFile)\n",
    "    writer.writerow(['APN','Owner','OwnerAddressLine1','OwnerAddressLine2','PropertyAddressLine1','PropertyAddressLine2','Legal_Description',\n",
    "                    'Zoning','Acreage','Deed_date','Land_Assessed_Value','Building_Assessed_Value','Total_Assessed_Value','Deed_Type',\n",
    "                     'Improvement_Built_Year','Account_Number'])\n"
   ]
  },
  {
   "cell_type": "code",
   "execution_count": 25,
   "metadata": {},
   "outputs": [
    {
     "name": "stdout",
     "output_type": "stream",
     "text": [
      "Well Done\n"
     ]
    }
   ],
   "source": [
    "with open('Johnson_County_TX7.csv', 'a',newline='',encoding='utf-8') as myFile:\n",
    "    writer = csv.writer(myFile)\n",
    "    writer.writerows(result)\n",
    "\n",
    "print('Well Done')"
   ]
  },
  {
   "cell_type": "code",
   "execution_count": null,
   "metadata": {},
   "outputs": [],
   "source": []
  }
 ],
 "metadata": {
  "kernelspec": {
   "display_name": "Python 3",
   "language": "python",
   "name": "python3"
  },
  "language_info": {
   "codemirror_mode": {
    "name": "ipython",
    "version": 3
   },
   "file_extension": ".py",
   "mimetype": "text/x-python",
   "name": "python",
   "nbconvert_exporter": "python",
   "pygments_lexer": "ipython3",
   "version": "3.7.6"
  }
 },
 "nbformat": 4,
 "nbformat_minor": 2
}
